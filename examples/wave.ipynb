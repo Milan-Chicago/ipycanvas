{
 "cells": [
  {
   "cell_type": "code",
   "execution_count": null,
   "metadata": {},
   "outputs": [],
   "source": [
    "from math import pi, cos, sin\n",
    "from time import sleep, time\n",
    "\n",
    "from ipycanvas import Canvas, hold_canvas, Animation"
   ]
  },
  {
   "cell_type": "code",
   "execution_count": null,
   "metadata": {},
   "outputs": [],
   "source": [
    "size = 1000"
   ]
  },
  {
   "cell_type": "code",
   "execution_count": null,
   "metadata": {},
   "outputs": [],
   "source": [
    "def draw(canvas, t, data):\n",
    "    size = 1000\n",
    "    step = 30\n",
    "    t_sec = t / 1000\n",
    "\n",
    "    canvas.fillStyle = 'rgba(0, 0, 0, 0.05)'\n",
    "    canvas.fillRect(0, 0, size, size)\n",
    "\n",
    "    canvas.fillStyle = '#fcba03'\n",
    "\n",
    "    x = 0\n",
    "    while x < size + step:\n",
    "        y = 0\n",
    "        while y < size + step:\n",
    "            x_angle = y_angle = 2 * math.pi\n",
    "\n",
    "            angle = x_angle * (x / size) + y_angle * (y / size)\n",
    "\n",
    "            particle_x = x + 20 * math.cos(2 * math.pi * t_sec + angle)\n",
    "            particle_y = y + 20 * math.sin(2 * math.pi * t_sec + angle)\n",
    "\n",
    "            canvas.beginPath()\n",
    "            canvas.arc(particle_x, particle_y, 6, 0, 2 * math.pi)\n",
    "            canvas.fill()\n",
    "            canvas.closePath()\n",
    "\n",
    "            y = y + step\n",
    "\n",
    "        x = x + step"
   ]
  },
  {
   "cell_type": "code",
   "execution_count": null,
   "metadata": {},
   "outputs": [],
   "source": [
    "animation = Animation(draw=draw)"
   ]
  },
  {
   "cell_type": "code",
   "execution_count": null,
   "metadata": {},
   "outputs": [],
   "source": [
    "canvas = Canvas(width=size, height=size)\n",
    "canvas.fill_style = 'black'\n",
    "canvas.fill_rect(0, 0, size, size)"
   ]
  },
  {
   "cell_type": "code",
   "execution_count": null,
   "metadata": {
    "scrolled": false
   },
   "outputs": [],
   "source": [
    "canvas"
   ]
  },
  {
   "cell_type": "code",
   "execution_count": null,
   "metadata": {},
   "outputs": [],
   "source": [
    "canvas.animation = animation"
   ]
  }
 ],
 "metadata": {
  "kernelspec": {
   "display_name": "Python 3",
   "language": "python",
   "name": "python3"
  },
  "language_info": {
   "codemirror_mode": {
    "name": "ipython",
    "version": 3
   },
   "file_extension": ".py",
   "mimetype": "text/x-python",
   "name": "python",
   "nbconvert_exporter": "python",
   "pygments_lexer": "ipython3",
   "version": "3.8.1"
  }
 },
 "nbformat": 4,
 "nbformat_minor": 4
}
