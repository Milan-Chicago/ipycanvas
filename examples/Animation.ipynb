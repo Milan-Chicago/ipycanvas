{
 "cells": [
  {
   "cell_type": "code",
   "execution_count": null,
   "metadata": {},
   "outputs": [],
   "source": [
    "from ipycanvas import Canvas, hold_canvas"
   ]
  },
  {
   "cell_type": "code",
   "execution_count": null,
   "metadata": {},
   "outputs": [],
   "source": [
    "from math import pi, cos, sin"
   ]
  },
  {
   "cell_type": "code",
   "execution_count": null,
   "metadata": {},
   "outputs": [],
   "source": [
    "def draw(canvas, t):\n",
    "    size = 1000\n",
    "    step = 50\n",
    "    t_sec = t / 1000.\n",
    "\n",
    "    canvas.fill_style = '#fcba03'\n",
    "\n",
    "    x = 0\n",
    "    while x < size + step:\n",
    "        y = 0\n",
    "        while y < size + step:\n",
    "            x_angle = y_angle = 2 * pi\n",
    "\n",
    "            angle = x_angle * (x / size) + y_angle * (y / size)\n",
    "\n",
    "            particle_x = x + 20 * cos(2 * pi * t_sec + angle)\n",
    "            particle_y = y + 20 * sin(2 * pi * t_sec + angle)\n",
    "\n",
    "            canvas.fill_circle(particle_x, particle_y, 6)\n",
    "\n",
    "            y = y + step\n",
    "\n",
    "        x = x + step"
   ]
  },
  {
   "cell_type": "code",
   "execution_count": null,
   "metadata": {},
   "outputs": [],
   "source": [
    "size = 1000\n",
    "canvas = Canvas(width=size, height=size)\n",
    "\n",
    "canvas"
   ]
  },
  {
   "cell_type": "code",
   "execution_count": null,
   "metadata": {},
   "outputs": [],
   "source": [
    "with hold_canvas(canvas):\n",
    "    for i in range(100):\n",
    "        canvas.clear()\n",
    "\n",
    "        draw(canvas, i * 16.)\n",
    "\n",
    "        canvas.sleep(16)"
   ]
  }
 ],
 "metadata": {
  "kernelspec": {
   "display_name": "Python 3",
   "language": "python",
   "name": "python3"
  },
  "language_info": {
   "codemirror_mode": {
    "name": "ipython",
    "version": 3
   },
   "file_extension": ".py",
   "mimetype": "text/x-python",
   "name": "python",
   "nbconvert_exporter": "python",
   "pygments_lexer": "ipython3",
   "version": "3.8.5"
  }
 },
 "nbformat": 4,
 "nbformat_minor": 4
}
